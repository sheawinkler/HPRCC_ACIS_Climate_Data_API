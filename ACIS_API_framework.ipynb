{
 "cells": [
  {
   "cell_type": "code",
   "execution_count": null,
   "metadata": {},
   "outputs": [],
   "source": [
    "'''\n",
    "--Author: Shea Winkler\n",
    "--Date: 05/25/2020\n",
    "--Purpose: Framework to access ACIS climate data API\n",
    "\n",
    "current Python: 3.7.4 (should be compatible with anything 3.7+ or earlier)\n",
    "--current packages:\n",
    "----requests version: 2.22.0\n",
    "----pandas version: 0.25.1\n",
    "----numpy version: 1.17.2\n",
    "'''"
   ]
  },
  {
   "cell_type": "code",
   "execution_count": 209,
   "metadata": {},
   "outputs": [],
   "source": [
    "import io\n",
    "import re\n",
    "import requests\n",
    "import pandas as pd\n",
    "import numpy as np\n",
    "\n",
    "### print out your package versions to see if you need to update ###\n",
    "# import sys\n",
    "# print(sys.version)\n",
    "# print('python executable: {}'.format(sys.executable))\n",
    "# print('requests version: {}'.format(requests.__version__))\n",
    "# print('pandas version: {}'.format(pd.__version__))\n",
    "# print('numpy version: {}'.format(np.__version__))"
   ]
  },
  {
   "cell_type": "code",
   "execution_count": 166,
   "metadata": {},
   "outputs": [],
   "source": [
    "## stn = station_number\n",
    "## sdate = start date\n",
    "## edate = end date\n",
    "stn = '254795'\n",
    "sdate = '2018-01-01'\n",
    "edate = '2018-12-31'\n",
    "\n",
    "# for further explanation: http://www.rcc-acis.org/docs_webservices.html\n",
    "api_params = {'sID': stn,\n",
    "              'sdate':sdate,\n",
    "              'edate':edate,\n",
    "              'meta':'valid_daterange,ll',\n",
    "              # 1 = maxT, 2 = minT, 4 = precip, 10 = snowfall, 11 = snow_depth,\n",
    "              'elems':'1,2,4,10,11',#format may change if api calls become more complex\n",
    "              }\n",
    "base_url = 'http://data.rcc-acis.org/'\n",
    "method = 'StnData' \n",
    "\n",
    "# get the api data w/ StnData method from documentation\n",
    "req = requests.get(base_url+method,api_params)"
   ]
  },
  {
   "cell_type": "code",
   "execution_count": 210,
   "metadata": {},
   "outputs": [],
   "source": [
    "# read the data returned from API into pandas dataframe\n",
    "df = pd.read_csv(io.StringIO(req.text))\n",
    "\n",
    "## retrieve lattitude and longitude\n",
    "latitude = re.sub('[^\\d]','',df.columns[1])\n",
    "longitude = re.sub('[^-\\d]','',df.columns[0])\n",
    "\n",
    "# get rid of T/F columns for whether data exists - could use these as QC in the future\n",
    "# TODO: process any missing data here\n",
    "df = df.drop(axis=1, columns=df.columns[[6,7,8,9,10,11,12]])\n",
    "\n",
    "# reset column names\n",
    "df.columns = ['Date','MaxTemp','MinTemp','Precip','Snowfall','Snow_Depth']\n",
    "\n",
    "# Replace letters in precip column according to HPRCC script (w/o tracking 'M')\n",
    "precip = []\n",
    "for i in range(len(df['Precip'])):\n",
    "    if df.iloc[i,3] == 'T' or df.iloc[i,3] == 'S':\n",
    "        precip.append(0.0)\n",
    "    elif df.iloc[i,3] == 'A': #not sure about this one but it copies HPRCC method\n",
    "        precip.append(float(df.iloc[i,:-1]))\n",
    "    else:\n",
    "        precip.append(df.iloc[i,3])\n",
    "df['Precip'] = precip\n",
    "\n",
    "# Replace T with 0.0 in Snowfall\n",
    "df['Snowfall'] = [0.0 if 'T' else i for i in df['Snowfall']]\n",
    "\n",
    "# remove non-numerical chars from snow_depth\n",
    "# Snow_depth may not be necessary\n",
    "df['Snow_Depth'] = [re.sub('[^\\d]','',i) for i in df['Snow_Depth']] \n",
    "\n",
    "# reformat date to match expected input for BuildWEA: yyyy-mm-dd\n",
    "df.Date = pd.date_range(sdate,edate).tolist()\n",
    "\n",
    "# print weather station data to csv for BuildWEA\n",
    "df.to_csv('acis_test.csv',index=False)"
   ]
  },
  {
   "cell_type": "markdown",
   "metadata": {},
   "source": [
    "## If you want to view raw data in Notebook, Run the cell below"
   ]
  },
  {
   "cell_type": "code",
   "execution_count": null,
   "metadata": {},
   "outputs": [],
   "source": [
    "# read the data returned from API into pandas dataframe\n",
    "df = pd.read_csv(io.StringIO(req.text))\n",
    "\n",
    "## retrieve lattitude and longitude\n",
    "latitude = re.sub('[^\\d]','',df.columns[1])\n",
    "longitude = re.sub('[^-\\d]','',df.columns[0])\n",
    "\n",
    "# get rid of T/F columns for whether data exists - could use these as QC in the future\n",
    "# TODO: process any missing data here\n",
    "df = df.drop(axis=1, columns=df.columns[[6,7,8,9,10,11,12]])\n",
    "\n",
    "# reset column names\n",
    "df.columns = ['Date','MaxTemp','MinTemp','Precip','Snowfall','Snow_Depth']\n",
    "\n",
    "print(df)"
   ]
  },
  {
   "cell_type": "code",
   "execution_count": null,
   "metadata": {},
   "outputs": [],
   "source": []
  },
  {
   "cell_type": "code",
   "execution_count": null,
   "metadata": {},
   "outputs": [],
   "source": []
  },
  {
   "cell_type": "code",
   "execution_count": null,
   "metadata": {},
   "outputs": [],
   "source": []
  },
  {
   "cell_type": "code",
   "execution_count": null,
   "metadata": {},
   "outputs": [],
   "source": []
  },
  {
   "cell_type": "code",
   "execution_count": null,
   "metadata": {},
   "outputs": [],
   "source": []
  },
  {
   "cell_type": "code",
   "execution_count": null,
   "metadata": {},
   "outputs": [],
   "source": []
  },
  {
   "cell_type": "code",
   "execution_count": null,
   "metadata": {},
   "outputs": [],
   "source": []
  },
  {
   "cell_type": "code",
   "execution_count": null,
   "metadata": {},
   "outputs": [],
   "source": []
  }
 ],
 "metadata": {
  "kernelspec": {
   "display_name": "Python 3",
   "language": "python",
   "name": "python3"
  },
  "language_info": {
   "codemirror_mode": {
    "name": "ipython",
    "version": 3
   },
   "file_extension": ".py",
   "mimetype": "text/x-python",
   "name": "python",
   "nbconvert_exporter": "python",
   "pygments_lexer": "ipython3",
   "version": "3.7.4"
  }
 },
 "nbformat": 4,
 "nbformat_minor": 2
}
